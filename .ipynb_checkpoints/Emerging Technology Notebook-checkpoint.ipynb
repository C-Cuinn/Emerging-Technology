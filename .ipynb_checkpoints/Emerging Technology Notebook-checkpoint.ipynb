{
 "cells": [
  {
   "cell_type": "markdown",
   "metadata": {},
   "source": [
    "# Using the Babalonian Method to get the Square Root of 2 without imports"
   ]
  },
  {
   "cell_type": "code",
   "execution_count": 16,
   "metadata": {},
   "outputs": [
    {
     "name": "stdout",
     "output_type": "stream",
     "text": [
      "The sqrt(2) = 1 . 4142135623730952214093017858547657902953555641438782124185842940740828094528952769132495248707026944\n"
     ]
    }
   ],
   "source": [
    "# Babablonian Method\n",
    "def sqrtx(s, est):    \n",
    "    s = s * 10**100\n",
    "    x = est * 10**100 \n",
    "    \n",
    "    while True:\n",
    "        est = x           \n",
    "        # Initial estimate \n",
    "        newest = (est + (s / x) * 10**100) / 2 \n",
    "        \n",
    "        # Refine the estimate.\n",
    "        if newest == est:\n",
    "            break\n",
    "        else:\n",
    "            x = newest \n",
    "    # Ensure the result displays to 100 decimal places using 100.0f\n",
    "    final = (\"{:100.0f}\".format( newest))\n",
    "    # Display the most recent iteration of the estimate\n",
    "    print(\"The sqrt(2) =\",final[0],\".\",final[1:101])\n",
    "sqrtx(2, 1.4)"
   ]
  },
  {
   "cell_type": "markdown",
   "metadata": {},
   "source": [
    "# Research and Investigation\n",
    "## https://blogs.sas.com/content/iml/2016/05/16/babylonian-square-roots.html\n",
    "\"Make an initial guess. Guess any positive number x0.\n",
    "Improve the guess. Apply the formula x1 = (x0 + S / x0) / 2. The number x1 is a better approximation to sqrt(S).\n",
    "Iterate until convergence. Apply the formula xn+1 = (xn + S / xn) / 2 until the process converges. Convergence is achieved when the digits of xn+1 and xn agree to as many decimal places as you desire.\"\n",
    "## https://www.geeksforgeeks.org/square-root-of-a-perfect-square/\n",
    "\"Algorithm:\n",
    "This method can be derived from (but predates) Newton–Raphson method.\n",
    "\n",
    "1 Start with an arbitrary positive start value x (the closer to the \n",
    "   root, the better).\n",
    "2 Initialize y = 1.\n",
    "3. Do following until desired approximation is achieved.\n",
    "  a) Get the next approximation for root using average of x and y\n",
    "  b) Set y = n/x\""
   ]
  },
  {
   "cell_type": "markdown",
   "metadata": {},
   "source": [
    "# The Chi-Squared Test"
   ]
  },
  {
   "cell_type": "code",
   "execution_count": 14,
   "metadata": {
    "scrolled": true
   },
   "outputs": [
    {
     "name": "stdout",
     "output_type": "stream",
     "text": [
      "24.6\n"
     ]
    },
    {
     "data": {
      "text/plain": [
       "0.0004098425861096696"
      ]
     },
     "execution_count": 14,
     "metadata": {},
     "output_type": "execute_result"
    }
   ],
   "source": [
    "# computes the chi-square statistic and p-value for the hypothesis test of independence of the observed frequencies in the contingency table\n",
    "from scipy.stats import chi2_contingency \n",
    "import numpy as np\n",
    "# Array containing the test data\n",
    "obs = np.array([[90, 60, 104, 95], [30, 50, 51, 20], [30, 40, 45, 35]])\n",
    "g,p, dof, expctd = chi2_contingency(obs)\n",
    "# Display the resultant\n",
    "print(\"{:.1f}\".format(g))\n",
    "p"
   ]
  },
  {
   "cell_type": "markdown",
   "metadata": {},
   "source": [
    "# Research and Investigation\n",
    "## https://www.analyticsvidhya.com/blog/2019/11/what-is-chi-square-test-how-it-works/\n",
    "\"The chi-square test helps us answer the above question by comparing the observed frequencies to the frequencies that we might expect to obtain purely by chance.\n",
    "\n",
    "Chi-square test in hypothesis testing is used to test the hypothesis about the distribution of observations/frequencies in different categories.\"\n",
    "\n",
    "## https://en.wikipedia.org/wiki/Chi-squared_test\n",
    "\"This game me an understanding of the genralities surrounding the Chi-Squared Test\"\n",
    "\n",
    "## https://byjus.com/maths/chi-square-test/\n",
    "\" The chi-square test of independence also known as the chi-square test of association which is used to determine the association between the categorical variables. It is considered as a non-parametric test. It is mostly used to test statistical independence.\n",
    "\n",
    "The chi-square test of independence is not appropriate when the categorical variables represent the pre-test and post-test observations. For this test, the data must meet the following requirements:\n",
    "\n",
    "Two categorical variables\n",
    "Relatively large sample size\n",
    "Categories of variables (two or more)\n",
    "Independence of observations\""
   ]
  },
  {
   "cell_type": "markdown",
   "metadata": {},
   "source": [
    "# STDDEV.P vs STDDEV.S"
   ]
  },
  {
   "cell_type": "code",
   "execution_count": 15,
   "metadata": {},
   "outputs": [
    {
     "name": "stdout",
     "output_type": "stream",
     "text": [
      "2.8722813232690143\n",
      "3.0276503540974917\n"
     ]
    }
   ],
   "source": [
    "# Test for Population\n",
    "# import statistics as stat\n",
    "# print(stat.pstdev([1,2,3,4,5,6,7,8,9,10]))\n",
    "\n",
    "# Test for Sample\n",
    "# import statistics as stat\n",
    "# print(stat.stdev([1,2,3,4,5,6,7,8,9,10]))\n",
    "\n",
    "# Population deviation\n",
    "import numpy as np\n",
    "x = [1,2,3,4,5,6,7,8,9,10]\n",
    "print(np.sqrt(np.sum((x - np.mean(x))**2)/len(x)))\n",
    "\n",
    "# sample deviation\n",
    "import numpy as np \n",
    "x = [1,2,3,4,5,6,7,8,9,10] \n",
    "print(np.sqrt(np.sum((x - np.mean(x))**2)/(len(x)-1)))"
   ]
  },
  {
   "cell_type": "markdown",
   "metadata": {},
   "source": [
    "# Research and Investigation\n",
    "## Population vs Sample \n",
    "### The difference between Population Deviation and Sample Deviation is subtle but very important.\n",
    "### Population Deviation assumes that the data given represents the entire population of a test group with no care given to outliers or inherent bias present in the data. Sample Deviation on the other hand modifies the formula by N-1 (or (len(x)**-1**)). For calculating the standard deviation of a sample of data the **Bessel’s correction** is applied to the size of the data sample (N) as a result of which 1 is subtracted from the sample size. The idea is that the calculation of standard deviation of sample includes a little bias due to the fact that the deviation is calculated based on the sample mean rather than the population mean. Thus, the bias is removed by subtracting 1 from the sample size.\n",
    "\n",
    "#### Bessels correction named after Frederich Bessel , using the Bessel correction corrects the bias in the estimation of the population variance. It also partially corrects the bias in the estimation of the population standard deviation.\n",
    "\n",
    "### http://mathbitsnotebook.com/Algebra1/StatisticsData/STPopSample.html\n",
    "\"definition : A population data set contains all members of a specified group (the entire list of possible data values). [Utilizes the count n in formulas.]\n",
    "Example: The population may be \"ALL people living in the US.\"\n",
    "\n",
    "definition : A sample data set contains a part, or a subset, of a population. The size of a sample is always less than the size of the population from which it is taken. [Utilizes the count n - 1 in formulas.]\n",
    "Example: The sample may be \"SOME people living in the US.\"\"\n",
    "\n",
    "### https://www.differencebetween.com/difference-between-population-and-vs-sample-standard-deviation/\n",
    "\"What is the difference between population standard deviation and sample standard deviation?\n",
    "\n",
    "• Population standard deviation is the exact parameter value used to measure the dispersion from the center, whereas the sample standard deviation is an unbiased estimator for it.\n",
    "\n",
    "• Population standard deviation is calculated when all the data regarding each individual of the population is known. Else, the sample standard deviation is calculated.\n",
    "\n",
    "• Population standard deviation is given by σ = √{ ∑(xi-µ)2/ n} where µ is the population mean and n is the population size but the sample standard deviation is given by S = √{ ∑(xi-ẍ)2 / (n-1)} where ẍ is the sample mean and n is the sample size.\""
   ]
  },
  {
   "cell_type": "code",
   "execution_count": null,
   "metadata": {},
   "outputs": [],
   "source": []
  }
 ],
 "metadata": {
  "kernelspec": {
   "display_name": "Python 3",
   "language": "python",
   "name": "python3"
  },
  "language_info": {
   "codemirror_mode": {
    "name": "ipython",
    "version": 3
   },
   "file_extension": ".py",
   "mimetype": "text/x-python",
   "name": "python",
   "nbconvert_exporter": "python",
   "pygments_lexer": "ipython3",
   "version": "3.8.3"
  }
 },
 "nbformat": 4,
 "nbformat_minor": 4
}
