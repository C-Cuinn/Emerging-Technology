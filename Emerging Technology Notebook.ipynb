{
 "cells": [
  {
   "cell_type": "markdown",
   "metadata": {},
   "source": [
    "# Using the Babalonian Method to get the Square Root of 2 without imports"
   ]
  },
  {
   "cell_type": "code",
   "execution_count": 16,
   "metadata": {},
   "outputs": [
    {
     "name": "stdout",
     "output_type": "stream",
     "text": [
      "The sqrt(2) = 1 . 4142135623730952214093017858547657902953555641438782124185842940740828094528952769132495248707026944\n"
     ]
    }
   ],
   "source": [
    "# Babablonian Method\n",
    "def sqrtx(s, est):    \n",
    "    s = s * 10**100\n",
    "    x = est * 10**100 \n",
    "    \n",
    "    while True:\n",
    "        est = x           \n",
    "        newest = (est + (s / x) * 10**100) / 2\n",
    "        \n",
    "        # Refine the estimate.\n",
    "        if newest == est:\n",
    "            break\n",
    "        else:\n",
    "            x = newest \n",
    "        \n",
    "    final = (\"{:100.0f}\".format( newest))\n",
    "    print(\"The sqrt(2) =\",final[0],\".\",final[1:101])\n",
    "sqrtx(2, 1.4)"
   ]
  },
  {
   "cell_type": "markdown",
   "metadata": {},
   "source": [
    "# The Chi-Squared Test"
   ]
  },
  {
   "cell_type": "code",
   "execution_count": 14,
   "metadata": {
    "scrolled": true
   },
   "outputs": [
    {
     "name": "stdout",
     "output_type": "stream",
     "text": [
      "24.6\n"
     ]
    },
    {
     "data": {
      "text/plain": [
       "0.0004098425861096696"
      ]
     },
     "execution_count": 14,
     "metadata": {},
     "output_type": "execute_result"
    }
   ],
   "source": [
    "from scipy.stats import chi2_contingency\n",
    "import numpy as np\n",
    "obs = np.array([[90, 60, 104, 95], [30, 50, 51, 20], [30, 40, 45, 35]])\n",
    "g,p, dof, expctd = chi2_contingency(obs)\n",
    "print(\"{:.1f}\".format(g))\n",
    "p"
   ]
  },
  {
   "cell_type": "markdown",
   "metadata": {},
   "source": [
    "# STDDEV.P vs STDDEV.S \n",
    "## Population vs Sample \n",
    "### The difference between Population Deviation and Sample Deviation is subtle but very important.\n",
    "### Population Deviation assumes that the data given represents the entire population of a test group with no care given to outliers or inherent bias present in the data. Sample Deviation on the other hand modifies the formula by N-1 (or (len(x)**-1**)). For calculating the standard deviation of a sample of data the **Bessel’s correction** is applied to the size of the data sample (N) as a result of which 1 is subtracted from the sample size. The idea is that the calculation of standard deviation of sample includes a little bias due to the fact that the deviation is calculated based on the sample mean rather than the population mean. Thus, the bias is removed by subtracting 1 from the sample size.\n",
    "\n",
    "#### Bessels correction named after Frederich Bessel , using the Bessel correction corrects the bias in the estimation of the population variance. It also partially corrects the bias in the estimation of the population standard deviation."
   ]
  },
  {
   "cell_type": "code",
   "execution_count": 15,
   "metadata": {},
   "outputs": [
    {
     "name": "stdout",
     "output_type": "stream",
     "text": [
      "2.8722813232690143\n",
      "3.0276503540974917\n"
     ]
    }
   ],
   "source": [
    "# Test for Population\n",
    "# import statistics as stat\n",
    "# print(stat.pstdev([1,2,3,4,5,6,7,8,9,10]))\n",
    "# Test for Sample\n",
    "# import statistics as stat\n",
    "# print(stat.stdev([1,2,3,4,5,6,7,8,9,10]))\n",
    "# population deviation\n",
    "import numpy as np\n",
    "x = [1,2,3,4,5,6,7,8,9,10]\n",
    "print(np.sqrt(np.sum((x - np.mean(x))**2)/len(x)))\n",
    "# sample deviation\n",
    "import numpy as np \n",
    "x = [1,2,3,4,5,6,7,8,9,10] \n",
    "print(np.sqrt(np.sum((x - np.mean(x))**2)/(len(x)-1)))"
   ]
  },
  {
   "cell_type": "code",
   "execution_count": null,
   "metadata": {},
   "outputs": [],
   "source": []
  }
 ],
 "metadata": {
  "kernelspec": {
   "display_name": "Python 3",
   "language": "python",
   "name": "python3"
  },
  "language_info": {
   "codemirror_mode": {
    "name": "ipython",
    "version": 3
   },
   "file_extension": ".py",
   "mimetype": "text/x-python",
   "name": "python",
   "nbconvert_exporter": "python",
   "pygments_lexer": "ipython3",
   "version": "3.8.3"
  }
 },
 "nbformat": 4,
 "nbformat_minor": 4
}
